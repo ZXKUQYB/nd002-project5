{
 "cells": [
  {
   "cell_type": "markdown",
   "id": "482eb9c4-7254-49aa-b82e-749b815a5c8e",
   "metadata": {},
   "source": [
    "# Prosper Loan Data Exploration\n",
    "## by Johnson Yang\n",
    "\n",
    "\n",
    "## Dataset\n",
    "\n",
    "The data consists of 113,937 loan case information in the Prosper marketplace, along with 81 features related to characteristics of a loan listing. The dataset can be downloaded from [here](https://www.google.com/url?q=https://s3.amazonaws.com/udacity-hosted-downloads/ud651/prosperLoanData.csv&sa=D&source=editors&ust=1630313442417000&usg=AOvVaw16uoqYUvaquOJ4v6XJDAPE), and [here](https://www.google.com/url?q=https://docs.google.com/spreadsheet/ccc?key%3D0AllIqIyvWZdadDd5NTlqZ1pBMHlsUjdrOTZHaVBuSlE%26usp%3Dsharing&sa=D&source=editors&ust=1630313442419000&usg=AOvVaw3nEYmLOY_Cvdc4wcnTQWTH) is the data dictionary which explains all the variables in the data set.\n",
    "\n",
    "## Summary of Findings\n",
    "\n",
    "In the exploration we found loan features that closely describe the borrower's financial status can help investors to decide whether they should invest in certain loan listings or not. Credit ratings, income ranges, and occupations work nicely as indicators of loan statuses, but these features work even better when they are utilized in conjunction with one another.\n",
    "\n",
    "It is also confirmed that most of the borrowers in the Prosper marketplace are people who have low to moderate incomes, and it is a recurring and persistent trend. This signals a pessimistic underlying message that the majority of the borrowers in the Prosper loan market still remains to be people who possess less financial strength, and as a result the market itself will always carry potential risk factors with it.\n",
    "\n",
    "## Key Insights for Presentation\n",
    "\n",
    "For the presentation we concentrated on the default rate differences before and after Prosper obtained SEC registration for its loans in July 2009. We found that it was hazardous to invest in any Prosper loan before July 2009 due to the rampant default rates, and verified that the default rates have been controlled to a reasonable level after July 2009. Most of the loans come with a Prosper Rating C or above could be considered to be relatively safe, but remember it is still far from a sure bet.\n",
    "\n",
    "We also noticed that even after July 2009, college students are still one of the few occupation groups that has a high default rate. Instead of treating them as risky investment options, it would be better to accept this fact as a US social problem that needs to be looked after."
   ]
  }
 ],
 "metadata": {
  "kernelspec": {
   "display_name": "Python 3",
   "language": "python",
   "name": "python3"
  },
  "language_info": {
   "codemirror_mode": {
    "name": "ipython",
    "version": 3
   },
   "file_extension": ".py",
   "mimetype": "text/x-python",
   "name": "python",
   "nbconvert_exporter": "python",
   "pygments_lexer": "ipython3",
   "version": "3.7.8"
  }
 },
 "nbformat": 4,
 "nbformat_minor": 5
}
